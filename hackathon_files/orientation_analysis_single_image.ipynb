{
 "cells": [
  {
   "cell_type": "markdown",
   "id": "f1b91599",
   "metadata": {},
   "source": [
    "### Import all required functions:"
   ]
  },
  {
   "cell_type": "code",
   "execution_count": null,
   "id": "625cf2c6",
   "metadata": {},
   "outputs": [],
   "source": [
    "from utilities import *\n",
    "from convenience_functions import *\n",
    "from functions import *"
   ]
  },
  {
   "cell_type": "markdown",
   "id": "669e2b77",
   "metadata": {},
   "source": [
    "### Load file:"
   ]
  },
  {
   "cell_type": "code",
   "execution_count": null,
   "id": "cf1b2009",
   "metadata": {},
   "outputs": [],
   "source": [
    "fpath = r'/Users/ryan/Desktop/polo/PLM_data/2022_12_07_Anais/Slide1c'\n",
    "str_filter = 'SM_2022_1207_1613_1_Slide1c_20x_Orientation'\n",
    "file_type = '.tif'\n",
    "\n",
    "arr, name = load_orientation_files(fpath, str_filter, file_type)"
   ]
  },
  {
   "cell_type": "markdown",
   "id": "599668ee",
   "metadata": {},
   "source": [
    "### Preprocess file as requried:"
   ]
  },
  {
   "cell_type": "code",
   "execution_count": null,
   "id": "374dd42d",
   "metadata": {},
   "outputs": [],
   "source": [
    "# this function outputs a list so we need to remove the bracketing to retrieve the array\n",
    "norm_arr = prepro_orientation(arr)[0]"
   ]
  },
  {
   "cell_type": "markdown",
   "id": "ad5ef3b0",
   "metadata": {},
   "source": [
    "### Display image:"
   ]
  },
  {
   "cell_type": "code",
   "execution_count": null,
   "id": "daec84c5",
   "metadata": {},
   "outputs": [],
   "source": [
    "plt.imshow(norm_arr, cmap = 'Greys')\n",
    "plt.axis('off')\n",
    "plt.show()"
   ]
  },
  {
   "cell_type": "markdown",
   "id": "a97fdcb2",
   "metadata": {},
   "source": [
    "### Set step size for binning pixel values:"
   ]
  },
  {
   "cell_type": "code",
   "execution_count": null,
   "id": "e3461021",
   "metadata": {},
   "outputs": [],
   "source": [
    "step_size = 10"
   ]
  },
  {
   "cell_type": "markdown",
   "id": "1160a10f",
   "metadata": {},
   "source": [
    "### Analyse file:"
   ]
  },
  {
   "cell_type": "code",
   "execution_count": null,
   "id": "af3f65bf",
   "metadata": {},
   "outputs": [],
   "source": [
    "idx_steps, arr_steps, val_pairs = percentile_pairs(norm_arr, step_size)"
   ]
  },
  {
   "cell_type": "code",
   "execution_count": null,
   "id": "61bab660",
   "metadata": {},
   "outputs": [],
   "source": [
    "filt_arr = filter_arr_vals(norm_arr, val_pairs)"
   ]
  },
  {
   "cell_type": "code",
   "execution_count": null,
   "id": "8c1b67cb",
   "metadata": {},
   "outputs": [],
   "source": [
    "labeled_arr, ct = label_expansion(filt_arr, noise_se_size=5)"
   ]
  },
  {
   "cell_type": "markdown",
   "id": "349a2d6e",
   "metadata": {},
   "source": [
    "### Display labeled result:"
   ]
  },
  {
   "cell_type": "code",
   "execution_count": null,
   "id": "37506fb3",
   "metadata": {},
   "outputs": [],
   "source": [
    "plt.imshow(labeled_arr.sum(axis = 0), cmap = 'Set3')\n",
    "plt.axis('off')\n",
    "plt.show()"
   ]
  },
  {
   "cell_type": "markdown",
   "id": "84f39b4c",
   "metadata": {},
   "source": [
    "### Set information for saving results:"
   ]
  },
  {
   "cell_type": "code",
   "execution_count": null,
   "id": "f0560ca8",
   "metadata": {},
   "outputs": [],
   "source": [
    "## this removes the filetype specification from the end of filename\n",
    "str_trim = len(file_type)"
   ]
  },
  {
   "cell_type": "code",
   "execution_count": null,
   "id": "adb0557d",
   "metadata": {},
   "outputs": [],
   "source": [
    "## this will put today's date in the directory name of the analysis results\n",
    "date = datetime.now().isoformat(sep = '_', timespec = 'seconds').split('_')[0]"
   ]
  },
  {
   "cell_type": "code",
   "execution_count": null,
   "id": "aaf965e2",
   "metadata": {},
   "outputs": [],
   "source": [
    "## this creates a directory to save the analysis results\n",
    "save_path = os.path.join(fpath, date + '_analysis_stepsize_' + str(step_size) + '_' + str_filter)\n",
    "os.mkdir(save_path)"
   ]
  },
  {
   "cell_type": "code",
   "execution_count": null,
   "id": "1e0c1d6c",
   "metadata": {},
   "outputs": [],
   "source": [
    "## choose which results you want to save and how to name them\n",
    "save_names = ('preprocessed','bins','labeled')\n",
    "save_files = ( norm_arr, val_pairs, labeled_arr)"
   ]
  },
  {
   "cell_type": "markdown",
   "id": "4a774ce0",
   "metadata": {},
   "source": [
    "### Save results:"
   ]
  },
  {
   "cell_type": "code",
   "execution_count": null,
   "id": "eae1bcbc",
   "metadata": {},
   "outputs": [],
   "source": [
    "## save all results as numpy files\n",
    "for i in range(len(save_names)):\n",
    "    np.save(os.path.join(save_path, name[0][:-str_trim] + '_' + save_names[i]), save_files[i])"
   ]
  },
  {
   "cell_type": "code",
   "execution_count": null,
   "id": "670350ba",
   "metadata": {},
   "outputs": [],
   "source": [
    "## save labeled image from analysis results as tiff file\n",
    "imsave(os.path.join(save_path, name[0][:-str_trim] + '_labeled.tif'), labeled_arr.astype(np.uint16))"
   ]
  }
 ],
 "metadata": {
  "kernelspec": {
   "display_name": "Python 3 (ipykernel)",
   "language": "python",
   "name": "python3"
  },
  "language_info": {
   "codemirror_mode": {
    "name": "ipython",
    "version": 3
   },
   "file_extension": ".py",
   "mimetype": "text/x-python",
   "name": "python",
   "nbconvert_exporter": "python",
   "pygments_lexer": "ipython3",
   "version": "3.10.9"
  }
 },
 "nbformat": 4,
 "nbformat_minor": 5
}
