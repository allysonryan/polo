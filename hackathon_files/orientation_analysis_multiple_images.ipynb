{
 "cells": [
  {
   "cell_type": "markdown",
   "id": "0c376a9a",
   "metadata": {},
   "source": [
    "### Import all required functions:"
   ]
  },
  {
   "cell_type": "code",
   "execution_count": null,
   "id": "c28e206c",
   "metadata": {},
   "outputs": [],
   "source": [
    "from utilities import *\n",
    "from convenience_functions import *\n",
    "from functions import *"
   ]
  },
  {
   "cell_type": "markdown",
   "id": "ae16055d",
   "metadata": {},
   "source": [
    "### Load files:"
   ]
  },
  {
   "cell_type": "code",
   "execution_count": null,
   "id": "bb509f8c",
   "metadata": {},
   "outputs": [],
   "source": [
    "fpath = r'/Users/ryan/Desktop/polo/PLM_data/2023_02_03_Anna/AD004_FullRecovery'\n",
    "str_filter = 'Orientation'\n",
    "file_type = '.tif'\n",
    "\n",
    "arrs, names = load_orientation_files(fpath, str_filter, file_type)"
   ]
  },
  {
   "cell_type": "markdown",
   "id": "73b33a83",
   "metadata": {},
   "source": [
    "### Preprocess files as requried:"
   ]
  },
  {
   "cell_type": "code",
   "execution_count": null,
   "id": "c550481b",
   "metadata": {},
   "outputs": [],
   "source": [
    "norm_arrs = prepro_orientation(arrs)"
   ]
  },
  {
   "cell_type": "markdown",
   "id": "fdace46a",
   "metadata": {},
   "source": [
    "### Display images:"
   ]
  },
  {
   "cell_type": "code",
   "execution_count": null,
   "id": "1004a99f",
   "metadata": {},
   "outputs": [],
   "source": [
    "for i in norm_arrs:\n",
    "    plt.imshow(i, cmap = 'Greys')\n",
    "    plt.axis('off')\n",
    "    plt.show()"
   ]
  },
  {
   "cell_type": "markdown",
   "id": "77f43e35",
   "metadata": {},
   "source": [
    "### Set step size for binning pixel values:"
   ]
  },
  {
   "cell_type": "code",
   "execution_count": null,
   "id": "1a2e9cf9",
   "metadata": {},
   "outputs": [],
   "source": [
    "step_size = 5"
   ]
  },
  {
   "cell_type": "markdown",
   "id": "f73dff2b",
   "metadata": {},
   "source": [
    "### Set empty lists with the same length as number of files to collect analysis results:"
   ]
  },
  {
   "cell_type": "code",
   "execution_count": null,
   "id": "75fa3ce9",
   "metadata": {},
   "outputs": [],
   "source": [
    "n_arrs = len(norm_arrs)\n",
    "\n",
    "bin_pairs = [0] * n_arrs\n",
    "filt_arrs = [0] * n_arrs\n",
    "labeled_arrs = [0] * n_arrs"
   ]
  },
  {
   "cell_type": "markdown",
   "id": "9c094673",
   "metadata": {},
   "source": [
    "### Loop over all images to analyse:"
   ]
  },
  {
   "cell_type": "code",
   "execution_count": null,
   "id": "b9fac954",
   "metadata": {},
   "outputs": [],
   "source": [
    "counter = 0\n",
    "for i in norm_arrs:\n",
    "    \n",
    "    idx_steps, arr_steps, val_pairs = percentile_pairs(i, step_size)\n",
    "    filt = filter_arr_vals(i, val_pairs)\n",
    "    labeled, ct = label_expansion(filt, noise_se_size=5)\n",
    "    \n",
    "    bin_pairs[counter] = val_pairs\n",
    "    filt_arrs[counter] = filt\n",
    "    labeled_arrs[counter] = labeled\n",
    "    \n",
    "    counter += 1"
   ]
  },
  {
   "cell_type": "markdown",
   "id": "502499ce",
   "metadata": {},
   "source": [
    "### Display labeled results:"
   ]
  },
  {
   "cell_type": "code",
   "execution_count": null,
   "id": "ba40b803",
   "metadata": {},
   "outputs": [],
   "source": [
    "for i in labeled_arrs:\n",
    "    plt.imshow(i.sum(axis = 0), cmap = 'Set3')\n",
    "    plt.axis('off')\n",
    "    plt.show()"
   ]
  },
  {
   "cell_type": "markdown",
   "id": "59b25ff3",
   "metadata": {},
   "source": [
    "### Set information for saving results:"
   ]
  },
  {
   "cell_type": "code",
   "execution_count": null,
   "id": "7df8729e",
   "metadata": {},
   "outputs": [],
   "source": [
    "## this removes the filetype specification from the end of filename\n",
    "str_trim = len(file_type)"
   ]
  },
  {
   "cell_type": "code",
   "execution_count": null,
   "id": "399e376e",
   "metadata": {},
   "outputs": [],
   "source": [
    "## this will put today's date in the directory name of the analysis results\n",
    "date = datetime.now().isoformat(sep = '_', timespec = 'seconds').split('_')[0]"
   ]
  },
  {
   "cell_type": "code",
   "execution_count": null,
   "id": "1901dc26",
   "metadata": {},
   "outputs": [],
   "source": [
    "## this creates a directory to save the analysis results\n",
    "save_path = os.path.join(fpath, date + '_analysis_stepsize_' + str(step_size) + '_' + str_filter)\n",
    "os.mkdir(save_path)"
   ]
  },
  {
   "cell_type": "code",
   "execution_count": null,
   "id": "4739b71d",
   "metadata": {},
   "outputs": [],
   "source": [
    "## choose which results you want to save and how to name them\n",
    "save_names = ('preprocessed','bins','labeled')\n",
    "save_files = (norm_arrs, bin_pairs, labeled_arrs)"
   ]
  },
  {
   "cell_type": "markdown",
   "id": "1ffef447",
   "metadata": {},
   "source": [
    "### Save results:"
   ]
  },
  {
   "cell_type": "code",
   "execution_count": null,
   "id": "4901ca1e",
   "metadata": {},
   "outputs": [],
   "source": [
    "## save all results as numpy files\n",
    "for i in range(len(names)):\n",
    "    for j in range(len(save_names)):\n",
    "        np.save(os.path.join(save_path, names[i][:-str_trim] + '_' + save_names[j]), save_files[j][i])"
   ]
  },
  {
   "cell_type": "code",
   "execution_count": null,
   "id": "07478134",
   "metadata": {},
   "outputs": [],
   "source": [
    "## save labeled image from analysis results as tiff file     \n",
    "for i in range(len(names)):\n",
    "    imsave(os.path.join(save_path, names[i][:-str_trim] + '_labeled.tif'), labeled_arrs[i].astype(np.uint16))"
   ]
  }
 ],
 "metadata": {
  "kernelspec": {
   "display_name": "Python 3 (ipykernel)",
   "language": "python",
   "name": "python3"
  },
  "language_info": {
   "codemirror_mode": {
    "name": "ipython",
    "version": 3
   },
   "file_extension": ".py",
   "mimetype": "text/x-python",
   "name": "python",
   "nbconvert_exporter": "python",
   "pygments_lexer": "ipython3",
   "version": "3.10.9"
  }
 },
 "nbformat": 4,
 "nbformat_minor": 5
}
